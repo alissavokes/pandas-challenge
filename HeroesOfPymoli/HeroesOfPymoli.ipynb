{
 "cells": [
  {
   "cell_type": "code",
   "execution_count": 6,
   "metadata": {},
   "outputs": [
    {
     "data": {
      "text/html": [
       "<div>\n",
       "<style scoped>\n",
       "    .dataframe tbody tr th:only-of-type {\n",
       "        vertical-align: middle;\n",
       "    }\n",
       "\n",
       "    .dataframe tbody tr th {\n",
       "        vertical-align: top;\n",
       "    }\n",
       "\n",
       "    .dataframe thead th {\n",
       "        text-align: right;\n",
       "    }\n",
       "</style>\n",
       "<table border=\"1\" class=\"dataframe\">\n",
       "  <thead>\n",
       "    <tr style=\"text-align: right;\">\n",
       "      <th></th>\n",
       "      <th>Purchase ID</th>\n",
       "      <th>SN</th>\n",
       "      <th>Age</th>\n",
       "      <th>Gender</th>\n",
       "      <th>Item ID</th>\n",
       "      <th>Item Name</th>\n",
       "      <th>Price</th>\n",
       "    </tr>\n",
       "  </thead>\n",
       "  <tbody>\n",
       "    <tr>\n",
       "      <th>0</th>\n",
       "      <td>0</td>\n",
       "      <td>Lisim78</td>\n",
       "      <td>20</td>\n",
       "      <td>Male</td>\n",
       "      <td>108</td>\n",
       "      <td>Extraction, Quickblade Of Trembling Hands</td>\n",
       "      <td>3.53</td>\n",
       "    </tr>\n",
       "    <tr>\n",
       "      <th>1</th>\n",
       "      <td>1</td>\n",
       "      <td>Lisovynya38</td>\n",
       "      <td>40</td>\n",
       "      <td>Male</td>\n",
       "      <td>143</td>\n",
       "      <td>Frenzied Scimitar</td>\n",
       "      <td>1.56</td>\n",
       "    </tr>\n",
       "    <tr>\n",
       "      <th>2</th>\n",
       "      <td>2</td>\n",
       "      <td>Ithergue48</td>\n",
       "      <td>24</td>\n",
       "      <td>Male</td>\n",
       "      <td>92</td>\n",
       "      <td>Final Critic</td>\n",
       "      <td>4.88</td>\n",
       "    </tr>\n",
       "    <tr>\n",
       "      <th>3</th>\n",
       "      <td>3</td>\n",
       "      <td>Chamassasya86</td>\n",
       "      <td>24</td>\n",
       "      <td>Male</td>\n",
       "      <td>100</td>\n",
       "      <td>Blindscythe</td>\n",
       "      <td>3.27</td>\n",
       "    </tr>\n",
       "    <tr>\n",
       "      <th>4</th>\n",
       "      <td>4</td>\n",
       "      <td>Iskosia90</td>\n",
       "      <td>23</td>\n",
       "      <td>Male</td>\n",
       "      <td>131</td>\n",
       "      <td>Fury</td>\n",
       "      <td>1.44</td>\n",
       "    </tr>\n",
       "  </tbody>\n",
       "</table>\n",
       "</div>"
      ],
      "text/plain": [
       "   Purchase ID             SN  Age Gender  Item ID  \\\n",
       "0            0        Lisim78   20   Male      108   \n",
       "1            1    Lisovynya38   40   Male      143   \n",
       "2            2     Ithergue48   24   Male       92   \n",
       "3            3  Chamassasya86   24   Male      100   \n",
       "4            4      Iskosia90   23   Male      131   \n",
       "\n",
       "                                   Item Name  Price  \n",
       "0  Extraction, Quickblade Of Trembling Hands   3.53  \n",
       "1                          Frenzied Scimitar   1.56  \n",
       "2                               Final Critic   4.88  \n",
       "3                                Blindscythe   3.27  \n",
       "4                                       Fury   1.44  "
      ]
     },
     "execution_count": 6,
     "metadata": {},
     "output_type": "execute_result"
    }
   ],
   "source": [
    "import pandas as pd\n",
    "\n",
    "purchase_data = pd.read_csv(\"Resources/purchase_data.csv\")\n",
    "purchase_data.head()"
   ]
  },
  {
   "cell_type": "code",
   "execution_count": 11,
   "metadata": {},
   "outputs": [
    {
     "data": {
      "text/html": [
       "<div>\n",
       "<style scoped>\n",
       "    .dataframe tbody tr th:only-of-type {\n",
       "        vertical-align: middle;\n",
       "    }\n",
       "\n",
       "    .dataframe tbody tr th {\n",
       "        vertical-align: top;\n",
       "    }\n",
       "\n",
       "    .dataframe thead th {\n",
       "        text-align: right;\n",
       "    }\n",
       "</style>\n",
       "<table border=\"1\" class=\"dataframe\">\n",
       "  <thead>\n",
       "    <tr style=\"text-align: right;\">\n",
       "      <th></th>\n",
       "      <th>Total Players</th>\n",
       "    </tr>\n",
       "  </thead>\n",
       "  <tbody>\n",
       "    <tr>\n",
       "      <th>0</th>\n",
       "      <td>576</td>\n",
       "    </tr>\n",
       "  </tbody>\n",
       "</table>\n",
       "</div>"
      ],
      "text/plain": [
       "   Total Players\n",
       "0            576"
      ]
     },
     "execution_count": 11,
     "metadata": {},
     "output_type": "execute_result"
    }
   ],
   "source": [
    "count_by_sn = len(purchase_data[\"SN\"].unique())\n",
    "total_player_df = pd.DataFrame({\"Total Players\":[count_by_sn]})\n",
    "total_player_df"
   ]
  },
  {
   "cell_type": "code",
   "execution_count": 41,
   "metadata": {},
   "outputs": [
    {
     "data": {
      "text/html": [
       "<style  type=\"text/css\" >\n",
       "</style><table id=\"T_8ca0e6f8_b951_11ea_8314_087190b0392e\" ><thead>    <tr>        <th class=\"blank level0\" ></th>        <th class=\"col_heading level0 col0\" >Number of Unique Items</th>        <th class=\"col_heading level0 col1\" >Average Purchase Price</th>        <th class=\"col_heading level0 col2\" >Total Number of Purchases</th>        <th class=\"col_heading level0 col3\" >Total Revenue</th>    </tr></thead><tbody>\n",
       "                <tr>\n",
       "                        <th id=\"T_8ca0e6f8_b951_11ea_8314_087190b0392elevel0_row0\" class=\"row_heading level0 row0\" >0</th>\n",
       "                        <td id=\"T_8ca0e6f8_b951_11ea_8314_087190b0392erow0_col0\" class=\"data row0 col0\" >179</td>\n",
       "                        <td id=\"T_8ca0e6f8_b951_11ea_8314_087190b0392erow0_col1\" class=\"data row0 col1\" >$3.05</td>\n",
       "                        <td id=\"T_8ca0e6f8_b951_11ea_8314_087190b0392erow0_col2\" class=\"data row0 col2\" >780</td>\n",
       "                        <td id=\"T_8ca0e6f8_b951_11ea_8314_087190b0392erow0_col3\" class=\"data row0 col3\" >$2,379.77</td>\n",
       "            </tr>\n",
       "    </tbody></table>"
      ],
      "text/plain": [
       "<pandas.io.formats.style.Styler at 0x1d8dcc13388>"
      ]
     },
     "execution_count": 41,
     "metadata": {},
     "output_type": "execute_result"
    }
   ],
   "source": [
    "num_unique_items = len(purchase_data[\"Item Name\"].unique())\n",
    "avg_purchase_price = purchase_data[\"Price\"].mean()\n",
    "num_purchases = len(purchase_data[\"Purchase ID\"])\n",
    "revenue = purchase_data[\"Price\"].sum()\n",
    "\n",
    "format_dict = {\"Average Purchase Price\":\"${0:,.2f}\", \"Total Revenue\":\"${0:,.2f}\"}\n",
    "\n",
    "purchasing_analysis =pd.DataFrame({\"Number of Unique Items\":[num_unique_items],\n",
    "                                   \"Average Purchase Price\":avg_purchase_price,\n",
    "                                   \"Total Number of Purchases\":[num_purchases],\n",
    "                                   \"Total Revenue\":revenue}\n",
    "purchasing_analysis.style.format(format_dict)"
   ]
  },
  {
   "cell_type": "code",
   "execution_count": 105,
   "metadata": {},
   "outputs": [
    {
     "data": {
      "text/html": [
       "<style  type=\"text/css\" >\n",
       "</style><table id=\"T_61a1d82c_b959_11ea_9c11_087190b0392e\" ><thead>    <tr>        <th class=\"col_heading level0 col0\" >Gender</th>        <th class=\"col_heading level0 col1\" >Total Count</th>        <th class=\"col_heading level0 col2\" >Percentage of Players</th>    </tr></thead><tbody>\n",
       "                <tr>\n",
       "                                <td id=\"T_61a1d82c_b959_11ea_9c11_087190b0392erow0_col0\" class=\"data row0 col0\" >Male</td>\n",
       "                        <td id=\"T_61a1d82c_b959_11ea_9c11_087190b0392erow0_col1\" class=\"data row0 col1\" >484</td>\n",
       "                        <td id=\"T_61a1d82c_b959_11ea_9c11_087190b0392erow0_col2\" class=\"data row0 col2\" >84.03%</td>\n",
       "            </tr>\n",
       "            <tr>\n",
       "                                <td id=\"T_61a1d82c_b959_11ea_9c11_087190b0392erow1_col0\" class=\"data row1 col0\" >Female</td>\n",
       "                        <td id=\"T_61a1d82c_b959_11ea_9c11_087190b0392erow1_col1\" class=\"data row1 col1\" >81</td>\n",
       "                        <td id=\"T_61a1d82c_b959_11ea_9c11_087190b0392erow1_col2\" class=\"data row1 col2\" >14.06%</td>\n",
       "            </tr>\n",
       "            <tr>\n",
       "                                <td id=\"T_61a1d82c_b959_11ea_9c11_087190b0392erow2_col0\" class=\"data row2 col0\" >Other / Non-Disclosed</td>\n",
       "                        <td id=\"T_61a1d82c_b959_11ea_9c11_087190b0392erow2_col1\" class=\"data row2 col1\" >11</td>\n",
       "                        <td id=\"T_61a1d82c_b959_11ea_9c11_087190b0392erow2_col2\" class=\"data row2 col2\" >1.91%</td>\n",
       "            </tr>\n",
       "    </tbody></table>"
      ],
      "text/plain": [
       "<pandas.io.formats.style.Styler at 0x1d8deb0b9c8>"
      ]
     },
     "execution_count": 105,
     "metadata": {},
     "output_type": "execute_result"
    }
   ],
   "source": [
    "sn_gender_df = purchase_data.set_index(\"Gender\")\n",
    "\n",
    "male_df = sn_gender_df.loc[[\"Male\"], :]\n",
    "female_df = sn_gender_df.loc[[\"Female\"], :]\n",
    "other_df = sn_gender_df.loc[[\"Other / Non-Disclosed\"], :]\n",
    "\n",
    "unique_male_count = len(male_df[\"SN\"].unique())\n",
    "unique_female_coun = len(female_df[\"SN\"].unique())\n",
    "unique_other_count = len(other_df[\"SN\"].unique())\n",
    "\n",
    "percent_male = unique_male_count/count_by_sn\n",
    "percent_female = unique_female_count/count_by_sn\n",
    "percent_other = unique_other_count/count_by_sn\n",
    "\n",
    "gender_demographics = pd.DataFrame({\"Gender\":[\"Male\", \"Female\", \"Other / Non-Disclosed\"],\n",
    "                                    \"Total Count\":[unique_male_count, unique_female_count, unique_other_count],\n",
    "                                    \"Percentage of Players\":[percent_male, percent_female, percent_other]})\n",
    "gender_demographics.style.format({\"Percentage of Players\":\"{:.2%}\"}).hide_index()"
   ]
  },
  {
   "cell_type": "code",
   "execution_count": 146,
   "metadata": {},
   "outputs": [
    {
     "data": {
      "text/html": [
       "<style  type=\"text/css\" >\n",
       "</style><table id=\"T_62012fd0_b95f_11ea_b690_087190b0392e\" ><thead>    <tr>        <th class=\"col_heading level0 col0\" >Gender</th>        <th class=\"col_heading level0 col1\" >Purchase Count</th>        <th class=\"col_heading level0 col2\" >Average Purchase Price</th>        <th class=\"col_heading level0 col3\" >Total Purchase Value</th>        <th class=\"col_heading level0 col4\" >Average Purchase Total per Person</th>    </tr></thead><tbody>\n",
       "                <tr>\n",
       "                                <td id=\"T_62012fd0_b95f_11ea_b690_087190b0392erow0_col0\" class=\"data row0 col0\" >Male</td>\n",
       "                        <td id=\"T_62012fd0_b95f_11ea_b690_087190b0392erow0_col1\" class=\"data row0 col1\" >652</td>\n",
       "                        <td id=\"T_62012fd0_b95f_11ea_b690_087190b0392erow0_col2\" class=\"data row0 col2\" >$3.02</td>\n",
       "                        <td id=\"T_62012fd0_b95f_11ea_b690_087190b0392erow0_col3\" class=\"data row0 col3\" >$1,967.64</td>\n",
       "                        <td id=\"T_62012fd0_b95f_11ea_b690_087190b0392erow0_col4\" class=\"data row0 col4\" >$4.07</td>\n",
       "            </tr>\n",
       "            <tr>\n",
       "                                <td id=\"T_62012fd0_b95f_11ea_b690_087190b0392erow1_col0\" class=\"data row1 col0\" >Female</td>\n",
       "                        <td id=\"T_62012fd0_b95f_11ea_b690_087190b0392erow1_col1\" class=\"data row1 col1\" >113</td>\n",
       "                        <td id=\"T_62012fd0_b95f_11ea_b690_087190b0392erow1_col2\" class=\"data row1 col2\" >$3.20</td>\n",
       "                        <td id=\"T_62012fd0_b95f_11ea_b690_087190b0392erow1_col3\" class=\"data row1 col3\" >$361.94</td>\n",
       "                        <td id=\"T_62012fd0_b95f_11ea_b690_087190b0392erow1_col4\" class=\"data row1 col4\" >$4.47</td>\n",
       "            </tr>\n",
       "            <tr>\n",
       "                                <td id=\"T_62012fd0_b95f_11ea_b690_087190b0392erow2_col0\" class=\"data row2 col0\" >Other / Non-Disclosed</td>\n",
       "                        <td id=\"T_62012fd0_b95f_11ea_b690_087190b0392erow2_col1\" class=\"data row2 col1\" >15</td>\n",
       "                        <td id=\"T_62012fd0_b95f_11ea_b690_087190b0392erow2_col2\" class=\"data row2 col2\" >$3.35</td>\n",
       "                        <td id=\"T_62012fd0_b95f_11ea_b690_087190b0392erow2_col3\" class=\"data row2 col3\" >$50.19</td>\n",
       "                        <td id=\"T_62012fd0_b95f_11ea_b690_087190b0392erow2_col4\" class=\"data row2 col4\" >$4.56</td>\n",
       "            </tr>\n",
       "    </tbody></table>"
      ],
      "text/plain": [
       "<pandas.io.formats.style.Styler at 0x1d8de6d4f48>"
      ]
     },
     "execution_count": 146,
     "metadata": {},
     "output_type": "execute_result"
    }
   ],
   "source": [
    "male_purchase_count = len(male_df[\"Purchase ID\"])\n",
    "female_purchase_count = len(female_df[\"Purchase ID\"])\n",
    "other_purchase_count = len(other_df[\"Purchase ID\"])\n",
    "\n",
    "male_avg_purchase_price = male_df[\"Price\"].mean()\n",
    "female_avg_purchase_price = female_df[\"Price\"].mean()\n",
    "other_avg_purchase_price = other_df[\"Price\"].mean()\n",
    "\n",
    "male_purchase_value = male_df[\"Price\"].sum()\n",
    "female_purchase_value = female_df[\"Price\"].sum()\n",
    "other_purchase_value = other_df[\"Price\"].sum()\n",
    "\n",
    "male_avg_sn = male_purchase_value/unique_male_count\n",
    "female_avg_sn = female_purchase_value/unique_female_count\n",
    "other_avg_sn = other_purchase_value/unique_other_count\n",
    "\n",
    "format_dict_2 = {\"Average Purchase Price\":\"${0:,.2f}\", \"Total Purchase Value\":\"${0:,.2f}\", \"Average Purchase Total per Person\":\"${0:,.2f}\"}\n",
    "\n",
    "purchase_analysis_gender = pd.DataFrame({\"Gender\":[\"Male\", \"Female\", \"Other / Non-Disclosed\"],\n",
    "                                        \"Purchase Count\":[male_purchase_count, female_purchase_count, other_purchase_count],\n",
    "                                        \"Average Purchase Price\":[male_avg_purchase_price, female_avg_purchase_price, other_avg_purchase_price],\n",
    "                                        \"Total Purchase Value\":[male_purchase_value, female_purchase_value, other_purchase_value],\n",
    "                                        \"Average Purchase Total per Person\":[male_avg_sn, female_avg_sn, other_avg_sn]})\n",
    "purchase_analysis_gender.style.format(format_dict_2).hide_index()"
   ]
  },
  {
   "cell_type": "code",
   "execution_count": 156,
   "metadata": {},
   "outputs": [
    {
     "data": {
      "text/html": [
       "<div>\n",
       "<style scoped>\n",
       "    .dataframe tbody tr th:only-of-type {\n",
       "        vertical-align: middle;\n",
       "    }\n",
       "\n",
       "    .dataframe tbody tr th {\n",
       "        vertical-align: top;\n",
       "    }\n",
       "\n",
       "    .dataframe thead th {\n",
       "        text-align: right;\n",
       "    }\n",
       "</style>\n",
       "<table border=\"1\" class=\"dataframe\">\n",
       "  <thead>\n",
       "    <tr style=\"text-align: right;\">\n",
       "      <th></th>\n",
       "      <th>Purchase ID</th>\n",
       "      <th>SN</th>\n",
       "      <th>Age</th>\n",
       "      <th>Gender</th>\n",
       "      <th>Item ID</th>\n",
       "      <th>Item Name</th>\n",
       "      <th>Price</th>\n",
       "      <th>Age Grouping</th>\n",
       "    </tr>\n",
       "  </thead>\n",
       "  <tbody>\n",
       "    <tr>\n",
       "      <th>0</th>\n",
       "      <td>0</td>\n",
       "      <td>Lisim78</td>\n",
       "      <td>20</td>\n",
       "      <td>Male</td>\n",
       "      <td>108</td>\n",
       "      <td>Extraction, Quickblade Of Trembling Hands</td>\n",
       "      <td>3.53</td>\n",
       "      <td>20-24</td>\n",
       "    </tr>\n",
       "    <tr>\n",
       "      <th>1</th>\n",
       "      <td>1</td>\n",
       "      <td>Lisovynya38</td>\n",
       "      <td>40</td>\n",
       "      <td>Male</td>\n",
       "      <td>143</td>\n",
       "      <td>Frenzied Scimitar</td>\n",
       "      <td>1.56</td>\n",
       "      <td>40+</td>\n",
       "    </tr>\n",
       "    <tr>\n",
       "      <th>2</th>\n",
       "      <td>2</td>\n",
       "      <td>Ithergue48</td>\n",
       "      <td>24</td>\n",
       "      <td>Male</td>\n",
       "      <td>92</td>\n",
       "      <td>Final Critic</td>\n",
       "      <td>4.88</td>\n",
       "      <td>20-24</td>\n",
       "    </tr>\n",
       "    <tr>\n",
       "      <th>3</th>\n",
       "      <td>3</td>\n",
       "      <td>Chamassasya86</td>\n",
       "      <td>24</td>\n",
       "      <td>Male</td>\n",
       "      <td>100</td>\n",
       "      <td>Blindscythe</td>\n",
       "      <td>3.27</td>\n",
       "      <td>20-24</td>\n",
       "    </tr>\n",
       "    <tr>\n",
       "      <th>4</th>\n",
       "      <td>4</td>\n",
       "      <td>Iskosia90</td>\n",
       "      <td>23</td>\n",
       "      <td>Male</td>\n",
       "      <td>131</td>\n",
       "      <td>Fury</td>\n",
       "      <td>1.44</td>\n",
       "      <td>20-24</td>\n",
       "    </tr>\n",
       "  </tbody>\n",
       "</table>\n",
       "</div>"
      ],
      "text/plain": [
       "   Purchase ID             SN  Age Gender  Item ID  \\\n",
       "0            0        Lisim78   20   Male      108   \n",
       "1            1    Lisovynya38   40   Male      143   \n",
       "2            2     Ithergue48   24   Male       92   \n",
       "3            3  Chamassasya86   24   Male      100   \n",
       "4            4      Iskosia90   23   Male      131   \n",
       "\n",
       "                                   Item Name  Price Age Grouping  \n",
       "0  Extraction, Quickblade Of Trembling Hands   3.53        20-24  \n",
       "1                          Frenzied Scimitar   1.56          40+  \n",
       "2                               Final Critic   4.88        20-24  \n",
       "3                                Blindscythe   3.27        20-24  \n",
       "4                                       Fury   1.44        20-24  "
      ]
     },
     "execution_count": 156,
     "metadata": {},
     "output_type": "execute_result"
    }
   ],
   "source": [
    "age_bins = [0, 9, 14, 19, 24, 29, 34, 39, 45]\n",
    "age_names = [\"<10\", \"10-14\", \"15-19\", \"20-24\", \"25-29\", \"30-34\", \"35-39\", \"40+\"]\n",
    "purchase_data[\"Age Grouping\"] = pd.cut(purchase_data[\"Age\"], age_bins, labels=age_names, include_lowest=True)\n",
    "purchase_data.head()"
   ]
  },
  {
   "cell_type": "code",
   "execution_count": 216,
   "metadata": {},
   "outputs": [
    {
     "data": {
      "text/html": [
       "<style  type=\"text/css\" >\n",
       "</style><table id=\"T_69dc83be_b966_11ea_b3e8_087190b0392e\" ><thead>    <tr>        <th class=\"blank level0\" ></th>        <th class=\"col_heading level0 col0\" >Player Count</th>        <th class=\"col_heading level0 col1\" >Percentage of Players</th>    </tr>    <tr>        <th class=\"index_name level0\" >Age Grouping</th>        <th class=\"blank\" ></th>        <th class=\"blank\" ></th>    </tr></thead><tbody>\n",
       "                <tr>\n",
       "                        <th id=\"T_69dc83be_b966_11ea_b3e8_087190b0392elevel0_row0\" class=\"row_heading level0 row0\" ><10</th>\n",
       "                        <td id=\"T_69dc83be_b966_11ea_b3e8_087190b0392erow0_col0\" class=\"data row0 col0\" >17</td>\n",
       "                        <td id=\"T_69dc83be_b966_11ea_b3e8_087190b0392erow0_col1\" class=\"data row0 col1\" >2.95%</td>\n",
       "            </tr>\n",
       "            <tr>\n",
       "                        <th id=\"T_69dc83be_b966_11ea_b3e8_087190b0392elevel0_row1\" class=\"row_heading level0 row1\" >10-14</th>\n",
       "                        <td id=\"T_69dc83be_b966_11ea_b3e8_087190b0392erow1_col0\" class=\"data row1 col0\" >22</td>\n",
       "                        <td id=\"T_69dc83be_b966_11ea_b3e8_087190b0392erow1_col1\" class=\"data row1 col1\" >3.82%</td>\n",
       "            </tr>\n",
       "            <tr>\n",
       "                        <th id=\"T_69dc83be_b966_11ea_b3e8_087190b0392elevel0_row2\" class=\"row_heading level0 row2\" >15-19</th>\n",
       "                        <td id=\"T_69dc83be_b966_11ea_b3e8_087190b0392erow2_col0\" class=\"data row2 col0\" >107</td>\n",
       "                        <td id=\"T_69dc83be_b966_11ea_b3e8_087190b0392erow2_col1\" class=\"data row2 col1\" >18.58%</td>\n",
       "            </tr>\n",
       "            <tr>\n",
       "                        <th id=\"T_69dc83be_b966_11ea_b3e8_087190b0392elevel0_row3\" class=\"row_heading level0 row3\" >20-24</th>\n",
       "                        <td id=\"T_69dc83be_b966_11ea_b3e8_087190b0392erow3_col0\" class=\"data row3 col0\" >258</td>\n",
       "                        <td id=\"T_69dc83be_b966_11ea_b3e8_087190b0392erow3_col1\" class=\"data row3 col1\" >44.79%</td>\n",
       "            </tr>\n",
       "            <tr>\n",
       "                        <th id=\"T_69dc83be_b966_11ea_b3e8_087190b0392elevel0_row4\" class=\"row_heading level0 row4\" >25-29</th>\n",
       "                        <td id=\"T_69dc83be_b966_11ea_b3e8_087190b0392erow4_col0\" class=\"data row4 col0\" >77</td>\n",
       "                        <td id=\"T_69dc83be_b966_11ea_b3e8_087190b0392erow4_col1\" class=\"data row4 col1\" >13.37%</td>\n",
       "            </tr>\n",
       "            <tr>\n",
       "                        <th id=\"T_69dc83be_b966_11ea_b3e8_087190b0392elevel0_row5\" class=\"row_heading level0 row5\" >30-34</th>\n",
       "                        <td id=\"T_69dc83be_b966_11ea_b3e8_087190b0392erow5_col0\" class=\"data row5 col0\" >52</td>\n",
       "                        <td id=\"T_69dc83be_b966_11ea_b3e8_087190b0392erow5_col1\" class=\"data row5 col1\" >9.03%</td>\n",
       "            </tr>\n",
       "            <tr>\n",
       "                        <th id=\"T_69dc83be_b966_11ea_b3e8_087190b0392elevel0_row6\" class=\"row_heading level0 row6\" >35-39</th>\n",
       "                        <td id=\"T_69dc83be_b966_11ea_b3e8_087190b0392erow6_col0\" class=\"data row6 col0\" >31</td>\n",
       "                        <td id=\"T_69dc83be_b966_11ea_b3e8_087190b0392erow6_col1\" class=\"data row6 col1\" >5.38%</td>\n",
       "            </tr>\n",
       "            <tr>\n",
       "                        <th id=\"T_69dc83be_b966_11ea_b3e8_087190b0392elevel0_row7\" class=\"row_heading level0 row7\" >40+</th>\n",
       "                        <td id=\"T_69dc83be_b966_11ea_b3e8_087190b0392erow7_col0\" class=\"data row7 col0\" >12</td>\n",
       "                        <td id=\"T_69dc83be_b966_11ea_b3e8_087190b0392erow7_col1\" class=\"data row7 col1\" >2.08%</td>\n",
       "            </tr>\n",
       "    </tbody></table>"
      ],
      "text/plain": [
       "<pandas.io.formats.style.Styler at 0x1d8dec7f2c8>"
      ]
     },
     "execution_count": 216,
     "metadata": {},
     "output_type": "execute_result"
    }
   ],
   "source": [
    "age_grouped = purchase_data.groupby([\"Age Grouping\"])\n",
    "age_grouped[[\"SN\"]].nunique()\n",
    "age_group_df = age_grouped[\"SN\"].nunique().to_frame(name=\"Player Count\")\n",
    "age_group_df[\"Percentage of Players\"] = age_group_df[\"Player Count\"]/count_by_sn\n",
    "age_group_df.style.format({\"Percentage of Players\":\"{:.2%}\"})"
   ]
  },
  {
   "cell_type": "code",
   "execution_count": null,
   "metadata": {},
   "outputs": [],
   "source": []
  },
  {
   "cell_type": "code",
   "execution_count": null,
   "metadata": {},
   "outputs": [],
   "source": []
  }
 ],
 "metadata": {
  "kernelspec": {
   "display_name": "Python 3",
   "language": "python",
   "name": "python3"
  },
  "language_info": {
   "codemirror_mode": {
    "name": "ipython",
    "version": 3
   },
   "file_extension": ".py",
   "mimetype": "text/x-python",
   "name": "python",
   "nbconvert_exporter": "python",
   "pygments_lexer": "ipython3",
   "version": "3.7.6"
  }
 },
 "nbformat": 4,
 "nbformat_minor": 4
}
